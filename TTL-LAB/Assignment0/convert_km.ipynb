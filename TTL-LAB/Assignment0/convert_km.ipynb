{
 "cells": [
  {
   "cell_type": "code",
   "execution_count": 1,
   "id": "ee106f00",
   "metadata": {},
   "outputs": [],
   "source": [
    "#Write a Python program to convert kilometers to miles?"
   ]
  },
  {
   "cell_type": "code",
   "execution_count": 2,
   "id": "72fec50f",
   "metadata": {},
   "outputs": [
    {
     "name": "stdout",
     "output_type": "stream",
     "text": [
      "Enter distance in kilometers: 22\n",
      "Distance in miles: 13.670162\n"
     ]
    }
   ],
   "source": [
    "kilometers = float(input(\"Enter distance in kilometers: \"))\n",
    "\n",
    "conversion_factor = 0.621371\n",
    "\n",
    "miles = kilometers * conversion_factor\n",
    "\n",
    "print(\"Distance in miles:\", miles)"
   ]
  },
  {
   "cell_type": "code",
   "execution_count": null,
   "id": "2bda27f3",
   "metadata": {},
   "outputs": [],
   "source": []
  }
 ],
 "metadata": {
  "kernelspec": {
   "display_name": "Python 3 (ipykernel)",
   "language": "python",
   "name": "python3"
  },
  "language_info": {
   "codemirror_mode": {
    "name": "ipython",
    "version": 3
   },
   "file_extension": ".py",
   "mimetype": "text/x-python",
   "name": "python",
   "nbconvert_exporter": "python",
   "pygments_lexer": "ipython3",
   "version": "3.11.5"
  }
 },
 "nbformat": 4,
 "nbformat_minor": 5
}
