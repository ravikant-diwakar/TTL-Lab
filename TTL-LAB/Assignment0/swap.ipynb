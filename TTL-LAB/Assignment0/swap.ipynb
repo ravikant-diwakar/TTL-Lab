{
 "cells": [
  {
   "cell_type": "code",
   "execution_count": 1,
   "id": "75c574b7",
   "metadata": {},
   "outputs": [
    {
     "name": "stdout",
     "output_type": "stream",
     "text": [
      "Object `variables` not found.\n"
     ]
    }
   ],
   "source": [
    "Write a Python program to swap two variables?"
   ]
  },
  {
   "cell_type": "code",
   "execution_count": 2,
   "id": "f0f9dc9d",
   "metadata": {},
   "outputs": [],
   "source": [
    "#Write a Python program to swap two variables?"
   ]
  },
  {
   "cell_type": "code",
   "execution_count": 3,
   "id": "b5464668",
   "metadata": {},
   "outputs": [
    {
     "name": "stdout",
     "output_type": "stream",
     "text": [
      "Enter the value of a: 4\n",
      "Enter the value of b: 2\n",
      "Before swapping:\n",
      "a = 4\n",
      "b = 2\n",
      "After swapping:\n",
      "a = 2\n",
      "b = 4\n"
     ]
    }
   ],
   "source": [
    "a = input(\"Enter the value of a: \")\n",
    "b = input(\"Enter the value of b: \")\n",
    "\n",
    "print(\"Before swapping:\")\n",
    "print(\"a =\", a)\n",
    "print(\"b =\", b)\n",
    "\n",
    "temp = a\n",
    "a = b\n",
    "b = temp\n",
    "\n",
    "print(\"After swapping:\")\n",
    "print(\"a =\", a)\n",
    "print(\"b =\", b)"
   ]
  },
  {
   "cell_type": "code",
   "execution_count": null,
   "id": "0ee4d0d7",
   "metadata": {},
   "outputs": [],
   "source": []
  }
 ],
 "metadata": {
  "kernelspec": {
   "display_name": "Python 3 (ipykernel)",
   "language": "python",
   "name": "python3"
  },
  "language_info": {
   "codemirror_mode": {
    "name": "ipython",
    "version": 3
   },
   "file_extension": ".py",
   "mimetype": "text/x-python",
   "name": "python",
   "nbconvert_exporter": "python",
   "pygments_lexer": "ipython3",
   "version": "3.11.5"
  }
 },
 "nbformat": 4,
 "nbformat_minor": 5
}
