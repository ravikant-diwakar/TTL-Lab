{
 "cells": [
  {
   "cell_type": "code",
   "execution_count": null,
   "id": "d0308c3e",
   "metadata": {},
   "outputs": [],
   "source": [
    "1. Given a string, the task is to reverse the order of the words in the given string.\n",
    "Ex- Input- “reverse the order of the words”\n",
    " Output- “words the of order the reverse”\n"
   ]
  },
  {
   "cell_type": "code",
   "execution_count": 1,
   "id": "bd8fde55",
   "metadata": {},
   "outputs": [
    {
     "name": "stdout",
     "output_type": "stream",
     "text": [
      "Enter a string: reverse the order of the words\n",
      "words the of order the reverse\n"
     ]
    }
   ],
   "source": [
    "string = input(\"Enter a string: \")\n",
    "\n",
    "s = string.split()[::-1]\n",
    "l = []\n",
    "\n",
    "for i in s:\n",
    "    l.append(i)\n",
    "\n",
    "print(\" \".join(l))"
   ]
  },
  {
   "cell_type": "code",
   "execution_count": null,
   "id": "b294864f",
   "metadata": {},
   "outputs": [],
   "source": [
    "2. Write a program to check whether string is rotated by two places(both anti-clockwise \n",
    "and clockwise).\n",
    "Ex- Str1= “Abhiraj”\n",
    " Str2=”jaAbhir”\n",
    " Output→ Yes"
   ]
  },
  {
   "cell_type": "code",
   "execution_count": 2,
   "id": "c1abaf62",
   "metadata": {},
   "outputs": [
    {
     "name": "stdout",
     "output_type": "stream",
     "text": [
      "No\n"
     ]
    }
   ],
   "source": [
    "def isRotated(str1, str2):\n",
    "    return len(str1) == len(str2) and (str2 + str2).count(str1) > 0\n",
    "\n",
    "if __name__ == \"__main__\":\n",
    "    str1 = \"Abhiraj\"\n",
    "    str2 = \"jaAbhir\"\n",
    "    print(\"Yes\" if isRotated(str1, str2) else \"No\")"
   ]
  },
  {
   "cell_type": "code",
   "execution_count": null,
   "id": "6a46ef7b",
   "metadata": {},
   "outputs": [],
   "source": [
    "3. Write a program to get a single string from two given strings, separated by a space \n",
    "and swap the first two characters of each string.\n",
    "Sample String :'Abhi', 'Raj'\n",
    "Expected Result : 'Raj Abhi'\n"
   ]
  },
  {
   "cell_type": "code",
   "execution_count": 3,
   "id": "17028fcd",
   "metadata": {},
   "outputs": [
    {
     "name": "stdout",
     "output_type": "stream",
     "text": [
      "Enter the first string: Abhi\n",
      "Enter the second string: raj\n",
      "rahi Abj\n"
     ]
    }
   ],
   "source": [
    "def swap_and_combine_strings(str1, str2):\n",
    "    str1_swapped = str2[:2] + str1[2:]\n",
    "    str2_swapped = str1[:2] + str2[2:]\n",
    "    result = str1_swapped + ' ' + str2_swapped\n",
    "    return result\n",
    "\n",
    "str1 = input(\"Enter the first string: \")\n",
    "str2 = input(\"Enter the second string: \")\n",
    "\n",
    "print(swap_and_combine_strings(str1, str2))"
   ]
  },
  {
   "cell_type": "code",
   "execution_count": null,
   "id": "1c50646d",
   "metadata": {},
   "outputs": [],
   "source": [
    "4. Write a Python program to remove the nth index character from a nonempty string."
   ]
  },
  {
   "cell_type": "code",
   "execution_count": 4,
   "id": "e78e3aa0",
   "metadata": {},
   "outputs": [
    {
     "name": "stdout",
     "output_type": "stream",
     "text": [
      "Enter a nonempty string: example\n",
      "Enter the index of the character to remove: 2\n",
      "exmple\n"
     ]
    }
   ],
   "source": [
    "def remove_nth_character(string, n):\n",
    "    if n < 0 or n >= len(string):\n",
    "        return \"Invalid index\"\n",
    "\n",
    "    new_string = string[:n] + string[n+1:]\n",
    "    return new_string\n",
    "\n",
    "string = input(\"Enter a nonempty string: \")\n",
    "n = int(input(\"Enter the index of the character to remove: \"))\n",
    "print(remove_nth_character(string, n))"
   ]
  },
  {
   "cell_type": "code",
   "execution_count": null,
   "id": "d4ee7d1f",
   "metadata": {},
   "outputs": [],
   "source": [
    "5. Write a Python program to sort a string lexicographically."
   ]
  },
  {
   "cell_type": "code",
   "execution_count": 5,
   "id": "b6b74a5d",
   "metadata": {},
   "outputs": [
    {
     "name": "stdout",
     "output_type": "stream",
     "text": [
      "Enter a string: abhiraj\n",
      "aabhijr\n"
     ]
    }
   ],
   "source": [
    "def sort_string(string):\n",
    "    sorted_string = ''.join(sorted(string))\n",
    "    return sorted_string\n",
    "\n",
    "string = input(\"Enter a string: \")\n",
    "print(sort_string(string))"
   ]
  },
  {
   "cell_type": "code",
   "execution_count": null,
   "id": "25f06150",
   "metadata": {},
   "outputs": [],
   "source": []
  }
 ],
 "metadata": {
  "kernelspec": {
   "display_name": "Python 3 (ipykernel)",
   "language": "python",
   "name": "python3"
  },
  "language_info": {
   "codemirror_mode": {
    "name": "ipython",
    "version": 3
   },
   "file_extension": ".py",
   "mimetype": "text/x-python",
   "name": "python",
   "nbconvert_exporter": "python",
   "pygments_lexer": "ipython3",
   "version": "3.11.5"
  }
 },
 "nbformat": 4,
 "nbformat_minor": 5
}
