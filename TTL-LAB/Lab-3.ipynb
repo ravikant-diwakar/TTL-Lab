{
 "cells": [
  {
   "cell_type": "markdown",
   "id": "1ffa9c77",
   "metadata": {},
   "source": [
    "1.write a program to find no. of occurence of each letter present int the given string\n",
    "input: mississippi\n",
    "\n",
    "2.wap to find no. of occurence of each vowel present in the given string.\n",
    "\n",
    "3.write a function to find factorial of a given number should be in range like 1 to n;\n",
    "\n",
    "4.write a function to find factorial of a given number with recursion.\n",
    "\n",
    "5.write a program to create a lambda function to find the square of a given number\n",
    "\n",
    "6.write a lambda function to find biggest of the given values.\n",
    "\n",
    "7.write a program to filter only even no. from the list using filter();"
   ]
  },
  {
   "cell_type": "code",
   "execution_count": 2,
   "id": "53ebb978",
   "metadata": {},
   "outputs": [
    {
     "name": "stdout",
     "output_type": "stream",
     "text": [
      "Enter a string: mississippi\n",
      "{'m': 1, 'i': 4, 's': 4, 'p': 2}\n"
     ]
    }
   ],
   "source": [
    "#1. \n",
    "def count_occurrences(string):\n",
    "    occurrences = {}\n",
    "    for char in string:\n",
    "        if char in occurrences:\n",
    "            occurrences[char] += 1\n",
    "        else:\n",
    "            occurrences[char] = 1\n",
    "    return occurrences\n",
    "\n",
    "input_string = input(\"Enter a string: \")\n",
    "\n",
    "occurrences = count_occurrences(input_string)\n",
    "print(occurrences)"
   ]
  },
  {
   "cell_type": "code",
   "execution_count": null,
   "id": "5b16521c",
   "metadata": {},
   "outputs": [],
   "source": []
  }
 ],
 "metadata": {
  "kernelspec": {
   "display_name": "Python 3 (ipykernel)",
   "language": "python",
   "name": "python3"
  },
  "language_info": {
   "codemirror_mode": {
    "name": "ipython",
    "version": 3
   },
   "file_extension": ".py",
   "mimetype": "text/x-python",
   "name": "python",
   "nbconvert_exporter": "python",
   "pygments_lexer": "ipython3",
   "version": "3.11.5"
  }
 },
 "nbformat": 4,
 "nbformat_minor": 5
}
