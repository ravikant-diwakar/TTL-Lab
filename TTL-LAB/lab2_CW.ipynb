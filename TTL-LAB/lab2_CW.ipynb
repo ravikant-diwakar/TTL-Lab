{
 "cells": [
  {
   "cell_type": "code",
   "execution_count": null,
   "id": "0ec3fbbe",
   "metadata": {},
   "outputs": [],
   "source": [
    "Some imp operations"
   ]
  },
  {
   "cell_type": "code",
   "execution_count": 1,
   "id": "15cf25b2",
   "metadata": {},
   "outputs": [
    {
     "name": "stdout",
     "output_type": "stream",
     "text": [
      "20\n"
     ]
    }
   ],
   "source": [
    "print (10 and 20)"
   ]
  },
  {
   "cell_type": "code",
   "execution_count": null,
   "id": "d0a93d4b",
   "metadata": {},
   "outputs": [],
   "source": [
    "if x is evaluate to false "
   ]
  },
  {
   "cell_type": "code",
   "execution_count": 2,
   "id": "dec26ea9",
   "metadata": {},
   "outputs": [
    {
     "name": "stdout",
     "output_type": "stream",
     "text": [
      "0\n"
     ]
    }
   ],
   "source": [
    "print (10 & 20)"
   ]
  },
  {
   "cell_type": "code",
   "execution_count": 3,
   "id": "bcf13852",
   "metadata": {},
   "outputs": [
    {
     "ename": "NameError",
     "evalue": "name 'true' is not defined",
     "output_type": "error",
     "traceback": [
      "\u001b[1;31m---------------------------------------------------------------------------\u001b[0m",
      "\u001b[1;31mNameError\u001b[0m                                 Traceback (most recent call last)",
      "Cell \u001b[1;32mIn[3], line 1\u001b[0m\n\u001b[1;32m----> 1\u001b[0m \u001b[38;5;28mprint\u001b[39m(true \u001b[38;5;129;01mand\u001b[39;00m false)\n",
      "\u001b[1;31mNameError\u001b[0m: name 'true' is not defined"
     ]
    }
   ],
   "source": [
    "print(true and false)"
   ]
  },
  {
   "cell_type": "code",
   "execution_count": 4,
   "id": "37a0fa3d",
   "metadata": {},
   "outputs": [
    {
     "name": "stdout",
     "output_type": "stream",
     "text": [
      "False\n"
     ]
    }
   ],
   "source": [
    "print(True and False)"
   ]
  },
  {
   "cell_type": "code",
   "execution_count": 5,
   "id": "0f582c0a",
   "metadata": {},
   "outputs": [
    {
     "name": "stdout",
     "output_type": "stream",
     "text": [
      "True\n"
     ]
    }
   ],
   "source": [
    "print(True or False)"
   ]
  },
  {
   "cell_type": "code",
   "execution_count": 6,
   "id": "6beacc19",
   "metadata": {},
   "outputs": [
    {
     "name": "stdout",
     "output_type": "stream",
     "text": [
      "20\n"
     ]
    }
   ],
   "source": [
    "print(20 or 40)"
   ]
  },
  {
   "cell_type": "code",
   "execution_count": 7,
   "id": "e170a398",
   "metadata": {},
   "outputs": [
    {
     "name": "stdout",
     "output_type": "stream",
     "text": [
      "10\n"
     ]
    }
   ],
   "source": [
    "print(10 or 40)"
   ]
  },
  {
   "cell_type": "code",
   "execution_count": 8,
   "id": "02f025b9",
   "metadata": {},
   "outputs": [
    {
     "name": "stdout",
     "output_type": "stream",
     "text": [
      "True\n"
     ]
    }
   ],
   "source": [
    "print(True or False)"
   ]
  },
  {
   "cell_type": "code",
   "execution_count": 9,
   "id": "4b8a8275",
   "metadata": {},
   "outputs": [
    {
     "name": "stdout",
     "output_type": "stream",
     "text": [
      "20\n"
     ]
    }
   ],
   "source": [
    "print(0 or 20)"
   ]
  },
  {
   "cell_type": "code",
   "execution_count": 10,
   "id": "7aa67f0d",
   "metadata": {},
   "outputs": [
    {
     "ename": "TypeError",
     "evalue": "unsupported operand type(s) for &: 'float' and 'float'",
     "output_type": "error",
     "traceback": [
      "\u001b[1;31m---------------------------------------------------------------------------\u001b[0m",
      "\u001b[1;31mTypeError\u001b[0m                                 Traceback (most recent call last)",
      "Cell \u001b[1;32mIn[10], line 1\u001b[0m\n\u001b[1;32m----> 1\u001b[0m \u001b[38;5;28mprint\u001b[39m(\u001b[38;5;241m10.5\u001b[39m \u001b[38;5;241m&\u001b[39m \u001b[38;5;241m10.8\u001b[39m)\n",
      "\u001b[1;31mTypeError\u001b[0m: unsupported operand type(s) for &: 'float' and 'float'"
     ]
    }
   ],
   "source": [
    "print(10.5 & 10.8)"
   ]
  },
  {
   "cell_type": "code",
   "execution_count": 11,
   "id": "cef040cd",
   "metadata": {},
   "outputs": [
    {
     "name": "stdout",
     "output_type": "stream",
     "text": [
      "0\n"
     ]
    }
   ],
   "source": [
    "print(10 & 20)"
   ]
  },
  {
   "cell_type": "code",
   "execution_count": 12,
   "id": "e075a02e",
   "metadata": {},
   "outputs": [
    {
     "name": "stdout",
     "output_type": "stream",
     "text": [
      "True\n"
     ]
    }
   ],
   "source": [
    "print(True & True)"
   ]
  },
  {
   "cell_type": "code",
   "execution_count": null,
   "id": "8b5ccd3a",
   "metadata": {},
   "outputs": [],
   "source": [
    "bit wise operater are applicable for only bolleian type\n",
    "bitwise do not support float"
   ]
  },
  {
   "cell_type": "code",
   "execution_count": null,
   "id": "cd9d23ad",
   "metadata": {},
   "outputs": [],
   "source": [
    "bitwise compliments"
   ]
  },
  {
   "cell_type": "code",
   "execution_count": 13,
   "id": "e053e7d8",
   "metadata": {},
   "outputs": [
    {
     "name": "stdout",
     "output_type": "stream",
     "text": [
      "-6\n"
     ]
    }
   ],
   "source": [
    "print(~5)"
   ]
  },
  {
   "cell_type": "code",
   "execution_count": 14,
   "id": "2165c92b",
   "metadata": {},
   "outputs": [
    {
     "name": "stdout",
     "output_type": "stream",
     "text": [
      "-5\n"
     ]
    }
   ],
   "source": [
    "print(~4)"
   ]
  },
  {
   "cell_type": "code",
   "execution_count": 15,
   "id": "ba503a12",
   "metadata": {},
   "outputs": [
    {
     "name": "stdout",
     "output_type": "stream",
     "text": [
      "3\n"
     ]
    }
   ],
   "source": [
    "print(~-4)"
   ]
  },
  {
   "cell_type": "code",
   "execution_count": null,
   "id": "4e7c9bbc",
   "metadata": {},
   "outputs": [],
   "source": [
    "positive number will be represented directly in memory whereas -ve no is represented indirectly in 2's compliment form"
   ]
  },
  {
   "cell_type": "code",
   "execution_count": 16,
   "id": "e1d845ed",
   "metadata": {},
   "outputs": [
    {
     "name": "stdout",
     "output_type": "stream",
     "text": [
      "40\n"
     ]
    }
   ],
   "source": [
    "print(10<<2)"
   ]
  },
  {
   "cell_type": "code",
   "execution_count": 17,
   "id": "7fb7db10",
   "metadata": {},
   "outputs": [
    {
     "name": "stdout",
     "output_type": "stream",
     "text": [
      "0\n"
     ]
    }
   ],
   "source": [
    "print(10>>20)"
   ]
  },
  {
   "cell_type": "code",
   "execution_count": 18,
   "id": "ad8a7335",
   "metadata": {},
   "outputs": [
    {
     "name": "stdout",
     "output_type": "stream",
     "text": [
      "2\n"
     ]
    }
   ],
   "source": [
    "print(10>>2)"
   ]
  },
  {
   "cell_type": "code",
   "execution_count": 19,
   "id": "493e5722",
   "metadata": {},
   "outputs": [
    {
     "name": "stdout",
     "output_type": "stream",
     "text": [
      "4\n"
     ]
    }
   ],
   "source": [
    "print(True<<2)"
   ]
  },
  {
   "cell_type": "code",
   "execution_count": 20,
   "id": "1a766065",
   "metadata": {},
   "outputs": [
    {
     "name": "stdout",
     "output_type": "stream",
     "text": [
      "0\n"
     ]
    }
   ],
   "source": [
    "print(True>>2)"
   ]
  },
  {
   "cell_type": "code",
   "execution_count": 21,
   "id": "58f9cc9a",
   "metadata": {},
   "outputs": [
    {
     "name": "stdout",
     "output_type": "stream",
     "text": [
      "1654077454848\n",
      "1654077454720\n"
     ]
    }
   ],
   "source": [
    "list1 = [\"one\",\"two\",\"three\"]\n",
    "list2 = [\"one\",\"two\",\"three\"]\n",
    "print(id(list1))\n",
    "print(id(list2))"
   ]
  },
  {
   "cell_type": "code",
   "execution_count": 22,
   "id": "c72aa5b2",
   "metadata": {},
   "outputs": [
    {
     "name": "stdout",
     "output_type": "stream",
     "text": [
      "1654077445504\n",
      "1654077455296\n",
      "False\n",
      "True\n"
     ]
    }
   ],
   "source": [
    "list1 = [\"one\",\"two\",\"three\"]\n",
    "list2 = [\"one\",\"two\",\"three\"]\n",
    "print(id(list1))\n",
    "print(id(list2))\n",
    "\n",
    "print(list1 is list2)\n",
    "print(list1 == list2)"
   ]
  },
  {
   "cell_type": "code",
   "execution_count": null,
   "id": "01d57f2c",
   "metadata": {},
   "outputs": [],
   "source": [
    "we can use is for address operater\n",
    "== for content comparison"
   ]
  },
  {
   "cell_type": "code",
   "execution_count": null,
   "id": "9b17a1b4",
   "metadata": {},
   "outputs": [],
   "source": [
    "MATH MODULE"
   ]
  },
  {
   "cell_type": "markdown",
   "id": "80a0bcdf",
   "metadata": {},
   "source": [
    "# MATH MODULE"
   ]
  },
  {
   "cell_type": "code",
   "execution_count": 23,
   "id": "07daadf1",
   "metadata": {},
   "outputs": [
    {
     "ename": "NameError",
     "evalue": "name 'Math' is not defined",
     "output_type": "error",
     "traceback": [
      "\u001b[1;31m---------------------------------------------------------------------------\u001b[0m",
      "\u001b[1;31mNameError\u001b[0m                                 Traceback (most recent call last)",
      "Cell \u001b[1;32mIn[23], line 2\u001b[0m\n\u001b[0;32m      1\u001b[0m \u001b[38;5;28;01mimport\u001b[39;00m \u001b[38;5;21;01mmath\u001b[39;00m\n\u001b[1;32m----> 2\u001b[0m \u001b[38;5;28mprint\u001b[39m(Math\u001b[38;5;241m.\u001b[39msqrt(\u001b[38;5;241m25\u001b[39m))\n\u001b[0;32m      3\u001b[0m \u001b[38;5;28mprint\u001b[39m(Math\u001b[38;5;241m.\u001b[39mpi)\n",
      "\u001b[1;31mNameError\u001b[0m: name 'Math' is not defined"
     ]
    }
   ],
   "source": [
    "import math\n",
    "print(Math.sqrt(25))\n",
    "print(Math.pi)"
   ]
  },
  {
   "cell_type": "code",
   "execution_count": 24,
   "id": "f22f40d1",
   "metadata": {},
   "outputs": [
    {
     "name": "stdout",
     "output_type": "stream",
     "text": [
      "5.0\n",
      "3.141592653589793\n"
     ]
    }
   ],
   "source": [
    "import math\n",
    "print(math.sqrt(25))\n",
    "print(math.pi)"
   ]
  },
  {
   "cell_type": "code",
   "execution_count": null,
   "id": "677c875e",
   "metadata": {},
   "outputs": [],
   "source": [
    "we can alias the module name as a keyword."
   ]
  },
  {
   "cell_type": "code",
   "execution_count": 26,
   "id": "f9550764",
   "metadata": {},
   "outputs": [
    {
     "name": "stdout",
     "output_type": "stream",
     "text": [
      "1.7724538509055159\n"
     ]
    }
   ],
   "source": [
    "from math import pi,sqrt\n",
    "print(sqrt(pi))"
   ]
  },
  {
   "cell_type": "code",
   "execution_count": 27,
   "id": "79d62c46",
   "metadata": {},
   "outputs": [
    {
     "name": "stdout",
     "output_type": "stream",
     "text": [
      "5.0\n"
     ]
    }
   ],
   "source": [
    "from math import pi,sqrt\n",
    "print(math.sqrt(25))"
   ]
  },
  {
   "cell_type": "markdown",
   "id": "1fcbf73c",
   "metadata": {},
   "source": [
    "# CONTROL FLOW"
   ]
  },
  {
   "cell_type": "code",
   "execution_count": 28,
   "id": "c320c250",
   "metadata": {},
   "outputs": [
    {
     "name": "stdout",
     "output_type": "stream",
     "text": [
      "0\n",
      "1\n",
      "2\n",
      "3\n",
      "4\n",
      "5\n",
      "6\n",
      "7\n",
      "8\n",
      "9\n",
      "10\n",
      "11\n",
      "12\n",
      "13\n",
      "14\n",
      "15\n",
      "16\n",
      "17\n",
      "18\n",
      "19\n",
      "20\n",
      "21\n",
      "22\n",
      "23\n",
      "24\n",
      "25\n",
      "26\n",
      "27\n",
      "28\n",
      "29\n",
      "30\n",
      "31\n",
      "32\n",
      "33\n",
      "34\n",
      "35\n",
      "36\n",
      "37\n",
      "38\n",
      "39\n",
      "40\n",
      "41\n",
      "42\n",
      "43\n",
      "44\n",
      "45\n",
      "46\n",
      "47\n",
      "48\n",
      "49\n",
      "50\n",
      "51\n",
      "52\n",
      "53\n",
      "54\n",
      "55\n",
      "56\n",
      "57\n",
      "58\n",
      "59\n",
      "60\n",
      "61\n",
      "62\n",
      "63\n",
      "64\n",
      "65\n",
      "66\n",
      "67\n",
      "68\n",
      "69\n",
      "70\n",
      "71\n",
      "72\n",
      "73\n",
      "74\n",
      "75\n",
      "76\n",
      "77\n",
      "78\n",
      "79\n",
      "80\n",
      "81\n",
      "82\n",
      "83\n",
      "84\n",
      "85\n",
      "86\n",
      "87\n",
      "88\n",
      "89\n",
      "90\n",
      "91\n",
      "92\n",
      "93\n",
      "94\n",
      "95\n",
      "96\n",
      "97\n",
      "98\n",
      "99\n"
     ]
    }
   ],
   "source": [
    "for i in range(100):\n",
    "    if(i%2!=2):\n",
    "        print(i)"
   ]
  },
  {
   "cell_type": "code",
   "execution_count": 30,
   "id": "3c400317",
   "metadata": {},
   "outputs": [
    {
     "name": "stdout",
     "output_type": "stream",
     "text": [
      "1\n",
      "3\n",
      "5\n",
      "7\n",
      "9\n",
      "11\n",
      "13\n",
      "15\n",
      "17\n",
      "19\n",
      "21\n",
      "23\n",
      "25\n",
      "27\n",
      "29\n",
      "31\n",
      "33\n",
      "35\n",
      "37\n",
      "39\n",
      "41\n",
      "43\n",
      "45\n",
      "47\n",
      "49\n",
      "51\n",
      "53\n",
      "55\n",
      "57\n",
      "59\n",
      "61\n",
      "63\n",
      "65\n",
      "67\n",
      "69\n",
      "71\n",
      "73\n",
      "75\n",
      "77\n",
      "79\n",
      "81\n",
      "83\n",
      "85\n",
      "87\n",
      "89\n",
      "91\n",
      "93\n",
      "95\n",
      "97\n",
      "99\n"
     ]
    }
   ],
   "source": [
    "r = range(1,100,2)\n",
    "for i in r:\n",
    "    print(i)"
   ]
  },
  {
   "cell_type": "code",
   "execution_count": 33,
   "id": "0bfe0caf",
   "metadata": {},
   "outputs": [
    {
     "name": "stdout",
     "output_type": "stream",
     "text": [
      "Enter the value12 14\n",
      "26\n"
     ]
    }
   ],
   "source": [
    "a,b = [int(x) for x in input(\"Enter the value\").split()]\n",
    "print(a+b)"
   ]
  },
  {
   "cell_type": "code",
   "execution_count": 34,
   "id": "e78a387e",
   "metadata": {},
   "outputs": [
    {
     "name": "stdout",
     "output_type": "stream",
     "text": [
      "Enter the value12,13,14\n",
      "39.0\n"
     ]
    }
   ],
   "source": [
    "a,b,c = [float(i) for i in input(\"Enter the value\").split(\",\")]\n",
    "print(a+b+c)"
   ]
  },
  {
   "cell_type": "code",
   "execution_count": 35,
   "id": "94997f34",
   "metadata": {},
   "outputs": [
    {
     "name": "stdout",
     "output_type": "stream",
     "text": [
      "Enter the value12,2,4,6\n",
      "15.0\n"
     ]
    }
   ],
   "source": [
    "a,b,c,d = [float(i) for i in input(\"Enter the value\").split(\",\")]\n",
    "print(a+b/c)"
   ]
  },
  {
   "cell_type": "code",
   "execution_count": null,
   "id": "fdf57777",
   "metadata": {},
   "outputs": [],
   "source": [
    "Eval function take as a string and evaluate the result in int"
   ]
  },
  {
   "cell_type": "code",
   "execution_count": 38,
   "id": "4bb333fd",
   "metadata": {},
   "outputs": [
    {
     "data": {
      "text/plain": [
       "60"
      ]
     },
     "execution_count": 38,
     "metadata": {},
     "output_type": "execute_result"
    }
   ],
   "source": [
    "eval(\"10+20+30\")"
   ]
  },
  {
   "cell_type": "code",
   "execution_count": 39,
   "id": "5fdae809",
   "metadata": {},
   "outputs": [
    {
     "name": "stdout",
     "output_type": "stream",
     "text": [
      "Enter the expression: 120\n",
      "120\n"
     ]
    }
   ],
   "source": [
    "print(eval(input(\"Enter the expression: \")))"
   ]
  },
  {
   "cell_type": "code",
   "execution_count": 42,
   "id": "052b2f74",
   "metadata": {},
   "outputs": [
    {
     "name": "stdout",
     "output_type": "stream",
     "text": [
      "Enter list: 2,3,4,5\n",
      "14\n"
     ]
    }
   ],
   "source": [
    "list = eval(input(\"Enter list: \"))\n",
    "sum=0;\n",
    "for x in list:\n",
    "    sum = sum + x;\n",
    "print(sum)"
   ]
  },
  {
   "cell_type": "code",
   "execution_count": 43,
   "id": "315ee18f",
   "metadata": {},
   "outputs": [
    {
     "name": "stdout",
     "output_type": "stream",
     "text": [
      "1\n",
      "2\n",
      "3\n",
      "4\n",
      "5\n",
      "6\n",
      "7\n",
      "8\n",
      "9\n",
      "10\n"
     ]
    }
   ],
   "source": [
    "x=1\n",
    "while x<=10:\n",
    "    print(x)\n",
    "    x=x+1"
   ]
  },
  {
   "cell_type": "code",
   "execution_count": 45,
   "id": "79be78b3",
   "metadata": {},
   "outputs": [
    {
     "name": "stdout",
     "output_type": "stream",
     "text": [
      "Enter Name: Abhi\n",
      "Abhi is entered\n"
     ]
    }
   ],
   "source": [
    "name=\"\"\n",
    "while(name != \"Abhi\"):\n",
    " name = input(\"Enter Name: \")\n",
    "print(\"Abhi is entered\")"
   ]
  },
  {
   "cell_type": "code",
   "execution_count": 2,
   "id": "8a97cabb",
   "metadata": {},
   "outputs": [
    {
     "name": "stdout",
     "output_type": "stream",
     "text": [
      "15\n",
      "* \n",
      "* * \n",
      "* * * \n",
      "* * * * \n",
      "* * * * * \n"
     ]
    }
   ],
   "source": [
    "n = int(input(1))\n",
    "for i in range(1, n+1):\n",
    "    for j in range(1, i+1):\n",
    "        print(\"*\", end=\" \")\n",
    "    print()"
   ]
  },
  {
   "cell_type": "code",
   "execution_count": 5,
   "id": "43f21823",
   "metadata": {},
   "outputs": [
    {
     "name": "stdout",
     "output_type": "stream",
     "text": [
      "          \n",
      "    *     \n",
      "   * *    \n",
      "  * * *   \n",
      " * * * *  \n",
      "* * * * * \n"
     ]
    }
   ],
   "source": [
    "for i in range(6):\n",
    "    print((\" \"*(6-i-1))+(\"* \"*(i))+(\" \"*(6-i-1)))"
   ]
  },
  {
   "cell_type": "code",
   "execution_count": 6,
   "id": "1fd00b54",
   "metadata": {},
   "outputs": [
    {
     "data": {
      "text/plain": [
       "9"
      ]
     },
     "execution_count": 6,
     "metadata": {},
     "output_type": "execute_result"
    }
   ],
   "source": [
    "s = \"Learning python is very easy\"\n",
    "s.index(\"python\")"
   ]
  },
  {
   "cell_type": "code",
   "execution_count": 8,
   "id": "8e1944c4",
   "metadata": {},
   "outputs": [
    {
     "data": {
      "text/plain": [
       "0"
      ]
     },
     "execution_count": 8,
     "metadata": {},
     "output_type": "execute_result"
    }
   ],
   "source": [
    "s = \"Learning python is very easy\"\n",
    "s.count(\"substring\")"
   ]
  },
  {
   "cell_type": "code",
   "execution_count": 12,
   "id": "c66ab4d5",
   "metadata": {},
   "outputs": [
    {
     "name": "stdout",
     "output_type": "stream",
     "text": [
      "Learning python is very difficult\n",
      "0\n",
      "Learning python is very easy\n"
     ]
    }
   ],
   "source": [
    "s = \"Learning python is very easy\"\n",
    "print(s.replace(\"easy\", \"d0......ifficult0......\"))\n",
    "print(s.count(\"substring\"))\n",
    "print(s)"
   ]
  },
  {
   "cell_type": "code",
   "execution_count": null,
   "id": "718f5136",
   "metadata": {},
   "outputs": [],
   "source": []
  }
 ],
 "metadata": {
  "kernelspec": {
   "display_name": "Python 3 (ipykernel)",
   "language": "python",
   "name": "python3"
  },
  "language_info": {
   "codemirror_mode": {
    "name": "ipython",
    "version": 3
   },
   "file_extension": ".py",
   "mimetype": "text/x-python",
   "name": "python",
   "nbconvert_exporter": "python",
   "pygments_lexer": "ipython3",
   "version": "3.11.5"
  }
 },
 "nbformat": 4,
 "nbformat_minor": 5
}
