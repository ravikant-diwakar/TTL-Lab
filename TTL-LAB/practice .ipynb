{
 "cells": [
  {
   "cell_type": "code",
   "execution_count": 1,
   "id": "370b1717",
   "metadata": {},
   "outputs": [
    {
     "name": "stdout",
     "output_type": "stream",
     "text": [
      "e\n"
     ]
    }
   ],
   "source": [
    "print('Hello, world!'[1])"
   ]
  },
  {
   "cell_type": "code",
   "execution_count": 2,
   "id": "2734df73",
   "metadata": {},
   "outputs": [
    {
     "name": "stdout",
     "output_type": "stream",
     "text": [
      "Hello\n"
     ]
    }
   ],
   "source": [
    "print('Hello, world!'[0:5])"
   ]
  },
  {
   "cell_type": "code",
   "execution_count": 3,
   "id": "f1be2c66",
   "metadata": {},
   "outputs": [
    {
     "name": "stdout",
     "output_type": "stream",
     "text": [
      "Hello\n"
     ]
    }
   ],
   "source": [
    "print('Hello, world!'[:5])"
   ]
  },
  {
   "cell_type": "code",
   "execution_count": 4,
   "id": "086fb9a1",
   "metadata": {},
   "outputs": [
    {
     "name": "stdout",
     "output_type": "stream",
     "text": [
      "lo, world!\n"
     ]
    }
   ],
   "source": [
    "print('Hello, world!'[3:])"
   ]
  },
  {
   "cell_type": "code",
   "execution_count": 5,
   "id": "667fc816",
   "metadata": {},
   "outputs": [
    {
     "name": "stdout",
     "output_type": "stream",
     "text": [
      "HELLO\n"
     ]
    }
   ],
   "source": [
    "print('Hello'.upper())"
   ]
  },
  {
   "cell_type": "code",
   "execution_count": 6,
   "id": "8cc420e8",
   "metadata": {},
   "outputs": [
    {
     "name": "stdout",
     "output_type": "stream",
     "text": [
      "True\n"
     ]
    }
   ],
   "source": [
    "print('Hello'.upper().isupper())"
   ]
  },
  {
   "cell_type": "code",
   "execution_count": 7,
   "id": "a13d965b",
   "metadata": {},
   "outputs": [
    {
     "name": "stdout",
     "output_type": "stream",
     "text": [
      "hello\n"
     ]
    }
   ],
   "source": [
    "print('Hello'.upper().lower())"
   ]
  },
  {
   "cell_type": "code",
   "execution_count": 8,
   "id": "85a0464a",
   "metadata": {},
   "outputs": [
    {
     "name": "stdout",
     "output_type": "stream",
     "text": [
      "['Remember,', 'remember,', 'the', 'fifth', 'of', 'July.']\n"
     ]
    }
   ],
   "source": [
    "print('Remember, remember, the fifth of July.'.split())"
   ]
  },
  {
   "cell_type": "code",
   "execution_count": 9,
   "id": "31d58bf5",
   "metadata": {},
   "outputs": [
    {
     "name": "stdout",
     "output_type": "stream",
     "text": [
      "There-can-only-be-one.\n"
     ]
    }
   ],
   "source": [
    "print('-'.join('There can only be one.'.split()))"
   ]
  },
  {
   "cell_type": "code",
   "execution_count": 10,
   "id": "6fcf73d9",
   "metadata": {},
   "outputs": [
    {
     "name": "stdout",
     "output_type": "stream",
     "text": [
      "words the of order the reverse\n"
     ]
    }
   ],
   "source": [
    "def reverse_words(string):\n",
    "    words = string.split()\n",
    "    reversed_words = words[::-1]\n",
    "    reversed_string = ' '.join(reversed_words)\n",
    "    return reversed_string\n",
    "\n",
    "input_string = \"reverse the order of the words\"\n",
    "output_string = reverse_words(input_string)\n",
    "print(output_string)"
   ]
  },
  {
   "cell_type": "code",
   "execution_count": 11,
   "id": "077b7097",
   "metadata": {},
   "outputs": [
    {
     "name": "stdout",
     "output_type": "stream",
     "text": [
      "words the of order the reverse\n"
     ]
    }
   ],
   "source": [
    "def reverse_words(input_string):\n",
    "    return ' '.join(input_string.split()[::-1])\n",
    "\n",
    "# Example usage:\n",
    "input_string = \"reverse the order of the words\"\n",
    "output_string = reverse_words(input_string)\n",
    "print(output_string)\n"
   ]
  },
  {
   "cell_type": "code",
   "execution_count": 12,
   "id": "8662b487",
   "metadata": {},
   "outputs": [
    {
     "name": "stdout",
     "output_type": "stream",
     "text": [
      "False\n"
     ]
    }
   ],
   "source": [
    "def is_rotated_string(str1, str2):\n",
    "    if len(str1) != len(str2):\n",
    "        return False\n",
    "\n",
    "    # Rotate the string anti-clockwise by two places\n",
    "    left_rotate = str1[2:] + str1[:2]\n",
    "\n",
    "    # Rotate the string clockwise by two places\n",
    "    right_rotate = str1[-2:] + str1[:-2]\n",
    "\n",
    "    return str2 == left_rotate or str2 == right_rotate\n",
    "\n",
    "# Example usage\n",
    "str1 = \"Abhiraj\"\n",
    "str2 = \"jaAbhir\"\n",
    "print(is_rotated_string(str1, str2)) # Output: True"
   ]
  },
  {
   "cell_type": "code",
   "execution_count": 13,
   "id": "8dafe8c7",
   "metadata": {},
   "outputs": [
    {
     "name": "stdout",
     "output_type": "stream",
     "text": [
      "No\n"
     ]
    }
   ],
   "source": [
    "def is_rotated_by_two_places(str1, str2):\n",
    "    # Check anticlockwise rotation\n",
    "    anticlockwise_rotated = str1[2:] + str1[:2]\n",
    "    if anticlockwise_rotated == str2:\n",
    "        return \"Yes (anticlockwise)\"\n",
    "\n",
    "    # Check clockwise rotation\n",
    "    clockwise_rotated = str1[-2:] + str1[:-2]\n",
    "    if clockwise_rotated == str2:\n",
    "        return \"Yes (clockwise)\"\n",
    "\n",
    "    # If neither clockwise nor anticlockwise rotation matches\n",
    "    return \"No\"\n",
    "\n",
    "# Example usage:\n",
    "str1 = \"Abhiraj\"\n",
    "str2 = \"jaAbhir\"\n",
    "result = is_rotated_by_two_places(str1, str2)\n",
    "print(result)\n"
   ]
  },
  {
   "cell_type": "code",
   "execution_count": 14,
   "id": "3897a6c2",
   "metadata": {},
   "outputs": [
    {
     "name": "stdout",
     "output_type": "stream",
     "text": [
      "Rahi Abj\n"
     ]
    }
   ],
   "source": [
    "def swap_and_combine_strings(str1, str2):\n",
    "    # Swap the first two characters of each string\n",
    "    str1_swapped = str2[:2] + str1[2:]\n",
    "    str2_swapped = str1[:2] + str2[2:]\n",
    "\n",
    "    # Combine the two strings separated by a space\n",
    "    result = str1_swapped + ' ' + str2_swapped\n",
    "\n",
    "    return result\n",
    "\n",
    "# Example usage\n",
    "str1 = 'Abhi'\n",
    "str2 = 'Raj'\n",
    "print(swap_and_combine_strings(str1, str2))  # Output: 'Raj Abhi'"
   ]
  },
  {
   "cell_type": "code",
   "execution_count": 15,
   "id": "1a57c4d1",
   "metadata": {},
   "outputs": [
    {
     "name": "stdout",
     "output_type": "stream",
     "text": [
      "Rahi Abj\n"
     ]
    }
   ],
   "source": [
    "def swap_and_combine_strings(str1, str2):\n",
    "    # Swap the first two characters of each string\n",
    "    str1_swapped = str2[:2] + str1[2:]\n",
    "    str2_swapped = str1[:2] + str2[2:]\n",
    "\n",
    "    # Combine the two strings separated by a space\n",
    "    result = str1_swapped + ' ' + str2_swapped\n",
    "\n",
    "    return result\n",
    "\n",
    "# Example usage\n",
    "str1 = 'Abhi'\n",
    "str2 = 'Raj'\n",
    "result = swap_and_combine_strings(str1, str2)\n",
    "print(result)  # Output: 'Raj Abhi'\n"
   ]
  },
  {
   "cell_type": "code",
   "execution_count": 16,
   "id": "ff06184e",
   "metadata": {},
   "outputs": [
    {
     "name": "stdout",
     "output_type": "stream",
     "text": [
      "Hell World\n"
     ]
    }
   ],
   "source": [
    "def remove_nth_character(string, n):\n",
    "    if n < 0 or n >= len(string):\n",
    "        return \"Invalid index\"\n",
    "\n",
    "    # Create a new string by excluding the nth index character\n",
    "    new_string = string[:n] + string[n+1:]\n",
    "\n",
    "    return new_string\n",
    "\n",
    "# Example usage\n",
    "string = \"Hello World\"\n",
    "n = 4\n",
    "print(remove_nth_character(string, n))  # Output: \"Helo World\""
   ]
  },
  {
   "cell_type": "code",
   "execution_count": 17,
   "id": "83f17f11",
   "metadata": {},
   "outputs": [
    {
     "name": "stdout",
     "output_type": "stream",
     "text": [
      "Enter a nonempty string: Hello World\n",
      "Enter the index of the character to remove: 4\n",
      "Hell World\n"
     ]
    }
   ],
   "source": [
    "def remove_nth_character(string, n):\n",
    "    if n < 0 or n >= len(string):\n",
    "        return \"Invalid index\"\n",
    "\n",
    "    # Create a new string by excluding the nth index character\n",
    "    new_string = string[:n] + string[n+1:]\n",
    "\n",
    "    return new_string\n",
    "\n",
    "# Take input from the user\n",
    "string = input(\"Enter a nonempty string: \")\n",
    "n = int(input(\"Enter the index of the character to remove: \"))\n",
    "\n",
    "# Call the function and print the result\n",
    "print(remove_nth_character(string, n))"
   ]
  },
  {
   "cell_type": "code",
   "execution_count": 18,
   "id": "144a2ee4",
   "metadata": {},
   "outputs": [
    {
     "name": "stdout",
     "output_type": "stream",
     "text": [
      "Enter a nonempty string: Hello World\n",
      "Enter the index of the character to remove: 3\n",
      "Helo World\n"
     ]
    }
   ],
   "source": [
    "def remove_nth_character(string, n):\n",
    "    if n < 0 or n >= len(string):\n",
    "        return \"Invalid index\"\n",
    "\n",
    "    # Create a new string by excluding the nth index character\n",
    "    new_string = string[:n] + string[n+1:]\n",
    "\n",
    "    return new_string\n",
    "\n",
    "# Take input from the user\n",
    "string = input(\"Enter a nonempty string: \")\n",
    "n = int(input(\"Enter the index of the character to remove: \"))\n",
    "\n",
    "# Call the function and print the result\n",
    "print(remove_nth_character(string, n))"
   ]
  },
  {
   "cell_type": "code",
   "execution_count": 19,
   "id": "97658322",
   "metadata": {},
   "outputs": [
    {
     "name": "stdout",
     "output_type": "stream",
     "text": [
      "cdeimou\n"
     ]
    }
   ],
   "source": [
    "def sort_string(string):\n",
    "    sorted_string = ''.join(sorted(string))\n",
    "    return sorted_string\n",
    "\n",
    "# Example usage\n",
    "string = \"codeium\"\n",
    "print(sort_string(string))  # Output: \"cdeimou\""
   ]
  },
  {
   "cell_type": "code",
   "execution_count": 20,
   "id": "bc13dcd1",
   "metadata": {},
   "outputs": [
    {
     "name": "stdout",
     "output_type": "stream",
     "text": [
      "Enter a string: Codeium\n",
      "Cdeimou\n"
     ]
    }
   ],
   "source": [
    "def sort_string(string):\n",
    "    sorted_string = ''.join(sorted(string))\n",
    "    return sorted_string\n",
    "\n",
    "# Take input from the user\n",
    "string = input(\"Enter a string: \")\n",
    "\n",
    "# Call the function and print the result\n",
    "print(sort_string(string))"
   ]
  },
  {
   "cell_type": "code",
   "execution_count": 1,
   "id": "7ee782e6",
   "metadata": {},
   "outputs": [
    {
     "ename": "IndentationError",
     "evalue": "expected an indented block after 'for' statement on line 5 (2958684524.py, line 7)",
     "output_type": "error",
     "traceback": [
      "\u001b[1;36m  Cell \u001b[1;32mIn[1], line 7\u001b[1;36m\u001b[0m\n\u001b[1;33m    l.append(i)\u001b[0m\n\u001b[1;37m    ^\u001b[0m\n\u001b[1;31mIndentationError\u001b[0m\u001b[1;31m:\u001b[0m expected an indented block after 'for' statement on line 5\n"
     ]
    }
   ],
   "source": [
    "string = \"geeks quiz practice code\"\n",
    "\n",
    "s = string.split()[::-1]\n",
    "l = []\n",
    "for i in s:\n",
    "\n",
    "l.append(i)\n",
    "\n",
    "print(\" \".join(l))\n"
   ]
  },
  {
   "cell_type": "code",
   "execution_count": 2,
   "id": "d0d25af8",
   "metadata": {},
   "outputs": [
    {
     "name": "stdout",
     "output_type": "stream",
     "text": [
      "code practice quiz geeks\n"
     ]
    }
   ],
   "source": [
    "# Python code\n",
    "# To reverse words in a given string\n",
    "\n",
    "# input string\n",
    "string = \"geeks quiz practice code\"\n",
    "# reversing words in a given string\n",
    "s = string.split()[::-1]\n",
    "l = []\n",
    "for i in s:\n",
    "\t# appending reversed words to l\n",
    "\tl.append(i)\n",
    "# printing reverse words\n",
    "print(\" \".join(l))\n"
   ]
  },
  {
   "cell_type": "code",
   "execution_count": 1,
   "id": "e9df2427",
   "metadata": {},
   "outputs": [
    {
     "name": "stdout",
     "output_type": "stream",
     "text": [
      "Enter a string: reverse the order of the words\n",
      "words the of order the reverse\n"
     ]
    }
   ],
   "source": [
    "# Python code\n",
    "# To reverse words in a given string\n",
    "\n",
    "# Take input from the user\n",
    "string = input(\"Enter a string: \")\n",
    "\n",
    "# Reversing words in a given string\n",
    "s = string.split()[::-1]\n",
    "l = []\n",
    "\n",
    "for i in s:\n",
    "    # Appending reversed words to l\n",
    "    l.append(i)\n",
    "\n",
    "# Printing reversed words\n",
    "print(\" \".join(l))\n"
   ]
  },
  {
   "cell_type": "code",
   "execution_count": 2,
   "id": "9a7bd1c2",
   "metadata": {},
   "outputs": [
    {
     "name": "stdout",
     "output_type": "stream",
     "text": [
      "Enter a string: reverse the order of the words\n",
      "words the of order the reverse\n"
     ]
    }
   ],
   "source": [
    "string = input(\"Enter a string: \")\n",
    "\n",
    "s = string.split()[::-1]\n",
    "l = []\n",
    "\n",
    "for i in s:\n",
    "    l.append(i)\n",
    "\n",
    "print(\" \".join(l))\n"
   ]
  },
  {
   "cell_type": "code",
   "execution_count": 3,
   "id": "f7fffbaa",
   "metadata": {},
   "outputs": [
    {
     "name": "stdout",
     "output_type": "stream",
     "text": [
      "No\n"
     ]
    }
   ],
   "source": [
    "# Python 3 program to check if a string \n",
    "# is two time rotation of another string.\n",
    "\n",
    "# Function to check if string2 is \n",
    "# obtained by string 1\n",
    "def isRotated(str1, str2):\n",
    "\n",
    "\tif (len(str1) != len(str2)):\n",
    "\t\treturn False\n",
    "\t\n",
    "\tif(len(str1) < 2):\n",
    "\t\treturn str1 == str2\n",
    "\tclock_rot = \"\"\n",
    "\tanticlock_rot = \"\"\n",
    "\tl = len(str2)\n",
    "\n",
    "\t# Initialize string as anti-clockwise rotation\n",
    "\tanticlock_rot = (anticlock_rot + str2[l - 2:] +\n",
    "\t\t\t\t\t\t\t\t\tstr2[0: l - 2])\n",
    "\t\n",
    "\t# Initialize string as clock wise rotation\n",
    "\tclock_rot = clock_rot + str2[2:] + str2[0:2]\n",
    "\n",
    "\t# check if any of them is equal to string1\n",
    "\treturn (str1 == clock_rot or\n",
    "\t\t\tstr1 == anticlock_rot)\n",
    "\n",
    "# Driver code\n",
    "if __name__ == \"__main__\":\n",
    "\t\n",
    "\tstr1 = \"Abhiraj\"\n",
    "\tstr2 = \"jaAbhir\"\n",
    "if isRotated(str1, str2):\n",
    "\tprint(\"Yes\") \n",
    "else:\n",
    "\tprint(\"No\")\n",
    "\n",
    "# This code is contributed by ita_c\n"
   ]
  },
  {
   "cell_type": "code",
   "execution_count": 4,
   "id": "0d0e9933",
   "metadata": {},
   "outputs": [
    {
     "name": "stdout",
     "output_type": "stream",
     "text": [
      "No\n"
     ]
    }
   ],
   "source": [
    "# Python 3 program to check if a string \n",
    "# is two time rotation of another string.\n",
    "\n",
    "# Function to check if string2 is \n",
    "# obtained by string 1\n",
    "def isRotated(str1, str2):\n",
    "\n",
    "\tif (len(str1) != len(str2)):\n",
    "\t\treturn False\n",
    "\t\n",
    "\tif(len(str1) < 2):\n",
    "\t\treturn str1 == str2\n",
    "\tclock_rot = \"\"\n",
    "\tanticlock_rot = \"\"\n",
    "\tl = len(str2)\n",
    "\n",
    "\t# Initialize string as anti-clockwise rotation\n",
    "\tanticlock_rot = (anticlock_rot + str2[l - 2:] +\n",
    "\t\t\t\t\t\t\t\t\tstr2[0: l - 2])\n",
    "\t\n",
    "\t# Initialize string as clock wise rotation\n",
    "\tclock_rot = clock_rot + str2[2:] + str2[0:2]\n",
    "\n",
    "\t# check if any of them is equal to string1\n",
    "\treturn (str1 == clock_rot or\n",
    "\t\t\tstr1 == anticlock_rot)\n",
    "\n",
    "# Driver code\n",
    "if __name__ == \"__main__\":\n",
    "\t\n",
    "\tstr1 = \"Abhiraj\"\n",
    "\tstr2 = \"rajAbhi\"\n",
    "if isRotated(str1, str2):\n",
    "\tprint(\"Yes\") \n",
    "else:\n",
    "\tprint(\"No\")\n",
    "\n",
    "# This code is contributed by ita_c\n"
   ]
  },
  {
   "cell_type": "code",
   "execution_count": 5,
   "id": "4ca5d66c",
   "metadata": {},
   "outputs": [
    {
     "name": "stdout",
     "output_type": "stream",
     "text": [
      "No\n"
     ]
    }
   ],
   "source": [
    "# Python 3 program to check if a string \n",
    "# is two time rotation of another string.\n",
    "\n",
    "# Function to check if string2 is \n",
    "# obtained by string 1\n",
    "def isRotated(str1, str2):\n",
    "\n",
    "\tif (len(str1) != len(str2)):\n",
    "\t\treturn False\n",
    "\t\n",
    "\tif(len(str1) < 2):\n",
    "\t\treturn str1 == str2\n",
    "\tclock_rot = \"\"\n",
    "\tanticlock_rot = \"\"\n",
    "\tl = len(str2)\n",
    "\n",
    "\t# Initialize string as anti-clockwise rotation\n",
    "\tanticlock_rot = (anticlock_rot + str2[l - 2:] +\n",
    "\t\t\t\t\t\t\t\t\tstr2[0: l - 2])\n",
    "\t\n",
    "\t# Initialize string as clock wise rotation\n",
    "\tclock_rot = clock_rot + str2[2:] + str2[0:2]\n",
    "\n",
    "\t# check if any of them is equal to string1\n",
    "\treturn (str1 == clock_rot or\n",
    "\t\t\tstr1 == anticlock_rot)\n",
    "\n",
    "# Driver code\n",
    "if __name__ == \"__main__\":\n",
    "\t\n",
    "\tstr1 = \"Abhiraj\"\n",
    "\tstr2 = \"jarihbA\"\n",
    "if isRotated(str1, str2):\n",
    "\tprint(\"Yes\") \n",
    "else:\n",
    "\tprint(\"No\")\n",
    "\n",
    "# This code is contributed by ita_c\n"
   ]
  },
  {
   "cell_type": "code",
   "execution_count": 6,
   "id": "bcdf5066",
   "metadata": {},
   "outputs": [
    {
     "name": "stdout",
     "output_type": "stream",
     "text": [
      "Yes\n"
     ]
    }
   ],
   "source": [
    "# Python 3 program to check if a string \n",
    "# is two time rotation of another string.\n",
    "\n",
    "# Function to check if string2 is \n",
    "# obtained by string 1\n",
    "def isRotated(str1, str2):\n",
    "\n",
    "\tif (len(str1) != len(str2)):\n",
    "\t\treturn False\n",
    "\t\n",
    "\tif(len(str1) < 2):\n",
    "\t\treturn str1 == str2\n",
    "\tclock_rot = \"\"\n",
    "\tanticlock_rot = \"\"\n",
    "\tl = len(str2)\n",
    "\n",
    "\t# Initialize string as anti-clockwise rotation\n",
    "\tanticlock_rot = (anticlock_rot + str2[l - 2:] +\n",
    "\t\t\t\t\t\t\t\t\tstr2[0: l - 2])\n",
    "\t\n",
    "\t# Initialize string as clock wise rotation\n",
    "\tclock_rot = clock_rot + str2[2:] + str2[0:2]\n",
    "\n",
    "\t# check if any of them is equal to string1\n",
    "\treturn (str1 == clock_rot or\n",
    "\t\t\tstr1 == anticlock_rot)\n",
    "\n",
    "# Driver code\n",
    "if __name__ == \"__main__\":\n",
    "\t\n",
    "\tstr1 = \"geeks\"\n",
    "\tstr2 = \"eksge\"\n",
    "if isRotated(str1, str2):\n",
    "\tprint(\"Yes\") \n",
    "else:\n",
    "\tprint(\"No\")\n",
    "\n",
    "# This code is contributed by ita_c\n"
   ]
  },
  {
   "cell_type": "code",
   "execution_count": 7,
   "id": "1437d804",
   "metadata": {},
   "outputs": [
    {
     "name": "stdout",
     "output_type": "stream",
     "text": [
      "Yes\n"
     ]
    }
   ],
   "source": [
    "def isRotated(str1, str2):\n",
    "    return len(str1) == len(str2) and (str2 + str2).count(str1) > 0\n",
    "\n",
    "if __name__ == \"__main__\":\n",
    "    str1 = \"geeks\"\n",
    "    str2 = \"eksge\"\n",
    "    print(\"Yes\" if isRotated(str1, str2) else \"No\")\n"
   ]
  },
  {
   "cell_type": "code",
   "execution_count": 8,
   "id": "fca602fd",
   "metadata": {},
   "outputs": [
    {
     "name": "stdout",
     "output_type": "stream",
     "text": [
      "No\n"
     ]
    }
   ],
   "source": [
    "def isRotated(str1, str2):\n",
    "    return len(str1) == len(str2) and (str2 + str2).count(str1) > 0\n",
    "\n",
    "if __name__ == \"__main__\":\n",
    "    str1 = \"Abhiraj\"\n",
    "    str2 = \"jaAbhir\"\n",
    "    print(\"Yes\" if isRotated(str1, str2) else \"No\")"
   ]
  },
  {
   "cell_type": "code",
   "execution_count": 9,
   "id": "d1f01f9d",
   "metadata": {},
   "outputs": [
    {
     "name": "stdout",
     "output_type": "stream",
     "text": [
      "Rahi Abj\n"
     ]
    }
   ],
   "source": [
    "def swap_first_two_chars(str1, str2):\n",
    "    return str2[:2] + str1[2:] + ' ' + str1[:2] + str2[2:]\n",
    "\n",
    "if __name__ == \"__main__\":\n",
    "    str1, str2 = 'Abhi', 'Raj'\n",
    "    result = swap_first_two_chars(str1, str2)\n",
    "    print(result)"
   ]
  },
  {
   "cell_type": "code",
   "execution_count": 10,
   "id": "0744ddf2",
   "metadata": {},
   "outputs": [
    {
     "name": "stdout",
     "output_type": "stream",
     "text": [
      "Rahi Abj\n"
     ]
    }
   ],
   "source": [
    "def swap_first_two_chars(str1, str2):\n",
    "    new_str1 = str2[:2] + str1[2:]\n",
    "    new_str2 = str1[:2] + str2[2:]\n",
    "    result = new_str1 + ' ' + new_str2\n",
    "    return result\n",
    "\n",
    "if __name__ == \"__main__\":\n",
    "    str1 = 'Abhi'\n",
    "    str2 = 'Raj'\n",
    "    result = swap_first_two_chars(str1, str2)\n",
    "    print(result)\n"
   ]
  },
  {
   "cell_type": "code",
   "execution_count": 11,
   "id": "38d12a7e",
   "metadata": {},
   "outputs": [
    {
     "name": "stdout",
     "output_type": "stream",
     "text": [
      "Rahi Abj\n"
     ]
    }
   ],
   "source": [
    "def swap_first_two_chars(str1, str2):\n",
    "    return str2[:2] + str1[2:] + ' ' + str1[:2] + str2[2:]\n",
    "\n",
    "if __name__ == \"__main__\":\n",
    "    str1, str2 = 'Abhi', 'Raj'\n",
    "    result = swap_first_two_chars(str1, str2)\n",
    "    print(result)\n"
   ]
  },
  {
   "cell_type": "code",
   "execution_count": 12,
   "id": "8f60b6f3",
   "metadata": {},
   "outputs": [
    {
     "name": "stdout",
     "output_type": "stream",
     "text": [
      "Rahi Abj\n"
     ]
    }
   ],
   "source": [
    "def swap_first_two_chars(str1, str2):\n",
    "    return str2[:2] + str1[2:] + ' ' + str1[:2] + str2[2:]\n",
    "\n",
    "if __name__ == \"__main__\":\n",
    "    str1, str2 = 'Abhi', 'Raj'\n",
    "    result = swap_first_two_chars(str1, str2)\n",
    "    print(result)\n"
   ]
  },
  {
   "cell_type": "code",
   "execution_count": 13,
   "id": "b185e600",
   "metadata": {},
   "outputs": [
    {
     "name": "stdout",
     "output_type": "stream",
     "text": [
      "Rahi Abj\n"
     ]
    }
   ],
   "source": [
    "def swap_first_two_chars(str1, str2):\n",
    "    return str2[:2] + str1[2:] + ' ' + str1[:2] + str2[2:]\n",
    "\n",
    "if __name__ == \"__main__\":\n",
    "    str1, str2 = 'Abhi', 'Raj'\n",
    "    result = swap_first_two_chars(str1, str2)\n",
    "    print(result)\n"
   ]
  },
  {
   "cell_type": "code",
   "execution_count": 14,
   "id": "27205deb",
   "metadata": {},
   "outputs": [
    {
     "name": "stdout",
     "output_type": "stream",
     "text": [
      "Enter the first string: Abhi\n",
      "Enter the second string: raj\n",
      "rahi Abj\n"
     ]
    }
   ],
   "source": [
    "def swap_and_combine_strings(str1, str2):\n",
    "    # Swap the first two characters of each string\n",
    "    str1_swapped = str2[:2] + str1[2:]\n",
    "    str2_swapped = str1[:2] + str2[2:]\n",
    "\n",
    "    # Combine the two strings separated by a space\n",
    "    result = str1_swapped + ' ' + str2_swapped\n",
    "\n",
    "    return result\n",
    "\n",
    "# Take input from the user\n",
    "str1 = input(\"Enter the first string: \")\n",
    "str2 = input(\"Enter the second string: \")\n",
    "\n",
    "# Call the function and print the result\n",
    "print(swap_and_combine_strings(str1, str2))"
   ]
  },
  {
   "cell_type": "code",
   "execution_count": 15,
   "id": "afb6a1aa",
   "metadata": {},
   "outputs": [
    {
     "name": "stdout",
     "output_type": "stream",
     "text": [
      "Enter the first string: Abhi\n",
      "Enter the second string: raj\n",
      "rahi Abj\n"
     ]
    }
   ],
   "source": [
    "def swap_and_combine_strings(str1, str2):\n",
    "    str1_swapped = str2[:2] + str1[2:]\n",
    "    str2_swapped = str1[:2] + str2[2:]\n",
    "    result = str1_swapped + ' ' + str2_swapped\n",
    "    return result\n",
    "\n",
    "str1 = input(\"Enter the first string: \")\n",
    "str2 = input(\"Enter the second string: \")\n",
    "\n",
    "print(swap_and_combine_strings(str1, str2))\n"
   ]
  },
  {
   "cell_type": "code",
   "execution_count": 16,
   "id": "ab707f05",
   "metadata": {},
   "outputs": [
    {
     "name": "stdout",
     "output_type": "stream",
     "text": [
      "Enter a nonempty string: Example\n",
      "Enter the index of the character to remove: 2\n",
      "Exmple\n"
     ]
    }
   ],
   "source": [
    "def remove_nth_character(string, n):\n",
    "    if n < 0 or n >= len(string):\n",
    "        return \"Invalid index\"\n",
    "\n",
    "    new_string = string[:n] + string[n+1:]\n",
    "    return new_string\n",
    "\n",
    "string = input(\"Enter a nonempty string: \")\n",
    "n = int(input(\"Enter the index of the character to remove: \"))\n",
    "\n",
    "print(remove_nth_character(string, n))\n"
   ]
  },
  {
   "cell_type": "code",
   "execution_count": 17,
   "id": "9fa90b75",
   "metadata": {},
   "outputs": [
    {
     "name": "stdout",
     "output_type": "stream",
     "text": [
      "Input String: example\n",
      "Index to Remove: 2\n",
      "Result: exmple\n"
     ]
    }
   ],
   "source": [
    "def remove_nth_character(string, n):\n",
    "    if n < 0 or n >= len(string):\n",
    "        return \"Invalid index\"\n",
    "\n",
    "    new_string = string[:n] + string[n+1:]\n",
    "    return new_string\n",
    "\n",
    "# Example input\n",
    "string_input = \"example\"\n",
    "n_input = 2\n",
    "\n",
    "# Call the function\n",
    "result_output = remove_nth_character(string_input, n_input)\n",
    "\n",
    "# Print the result\n",
    "print(\"Input String:\", string_input)\n",
    "print(\"Index to Remove:\", n_input)\n",
    "print(\"Result:\", result_output)\n"
   ]
  },
  {
   "cell_type": "code",
   "execution_count": 18,
   "id": "78b12f64",
   "metadata": {},
   "outputs": [
    {
     "name": "stdout",
     "output_type": "stream",
     "text": [
      "Enter a string: Example\n",
      "Eaelmpx\n"
     ]
    }
   ],
   "source": [
    "def sort_string(string):\n",
    "    sorted_string = ''.join(sorted(string))\n",
    "    return sorted_string\n",
    "\n",
    "# Take input from the user\n",
    "string = input(\"Enter a string: \")\n",
    "\n",
    "# Call the function and print the result\n",
    "print(sort_string(string))"
   ]
  },
  {
   "cell_type": "code",
   "execution_count": 19,
   "id": "4296b018",
   "metadata": {},
   "outputs": [
    {
     "name": "stdout",
     "output_type": "stream",
     "text": [
      "Enter a string: example\n",
      "aeelmpx\n"
     ]
    }
   ],
   "source": [
    "def sort_string(string):\n",
    "    sorted_string = ''.join(sorted(string))\n",
    "    return sorted_string\n",
    "\n",
    "# Take input from the user\n",
    "string = input(\"Enter a string: \")\n",
    "\n",
    "# Call the function and print the result\n",
    "print(sort_string(string))"
   ]
  },
  {
   "cell_type": "code",
   "execution_count": 20,
   "id": "328e83ae",
   "metadata": {},
   "outputs": [
    {
     "name": "stdout",
     "output_type": "stream",
     "text": [
      "Enter a string: abhiraj\n",
      "aabhijr\n"
     ]
    }
   ],
   "source": [
    "def sort_string(string):\n",
    "    sorted_string = ''.join(sorted(string))\n",
    "    return sorted_string\n",
    "\n",
    "string = input(\"Enter a string: \")\n",
    "print(sort_string(string))\n"
   ]
  },
  {
   "cell_type": "code",
   "execution_count": 21,
   "id": "e3d768e6",
   "metadata": {},
   "outputs": [
    {
     "name": "stdout",
     "output_type": "stream",
     "text": [
      "Enter a nonempty string: example\n",
      "Enter the index of the character to remove: 2\n",
      "exmple\n"
     ]
    }
   ],
   "source": [
    "def remove_nth_character(string, n):\n",
    "    if n < 0 or n >= len(string):\n",
    "        return \"Invalid index\"\n",
    "\n",
    "    new_string = string[:n] + string[n+1:]\n",
    "    return new_string\n",
    "\n",
    "string = input(\"Enter a nonempty string: \")\n",
    "n = int(input(\"Enter the index of the character to remove: \"))\n",
    "print(remove_nth_character(string, n))\n"
   ]
  },
  {
   "cell_type": "code",
   "execution_count": 22,
   "id": "df54bfd3",
   "metadata": {},
   "outputs": [
    {
     "name": "stdout",
     "output_type": "stream",
     "text": [
      "Enter a nonempty string: abhi\n",
      "Enter the index of the character to remove: 3\n",
      "abh\n"
     ]
    }
   ],
   "source": [
    "def remove_nth_character(string, n):\n",
    "    if n < 0 or n >= len(string):\n",
    "        return \"Invalid index\"\n",
    "\n",
    "    new_string = string[:n] + string[n+1:]\n",
    "    return new_string\n",
    "\n",
    "string = input(\"Enter a nonempty string: \")\n",
    "n = int(input(\"Enter the index of the character to remove: \"))\n",
    "print(remove_nth_character(string, n))"
   ]
  },
  {
   "cell_type": "code",
   "execution_count": 23,
   "id": "6b280e94",
   "metadata": {},
   "outputs": [
    {
     "name": "stdout",
     "output_type": "stream",
     "text": [
      "Enter a nonempty string: abhi\n",
      "Enter the index of the character to remove: 2\n",
      "abhi\n"
     ]
    }
   ],
   "source": [
    "def remove_nth_character(string, n):\n",
    "    if n < 0 or n >= len(string):\n",
    "        return \"Invalid index\"\n",
    "\n",
    "    new_string = string[:n] + string[n:]\n",
    "    return new_string\n",
    "\n",
    "string = input(\"Enter a nonempty string: \")\n",
    "n = int(input(\"Enter the index of the character to remove: \"))\n",
    "print(remove_nth_character(string, n))\n"
   ]
  },
  {
   "cell_type": "code",
   "execution_count": 24,
   "id": "0c2bcd5e",
   "metadata": {},
   "outputs": [
    {
     "name": "stdout",
     "output_type": "stream",
     "text": [
      "Enter a nonempty string: example\n",
      "Enter the index of the character to remove: 2\n",
      "exmple\n"
     ]
    }
   ],
   "source": [
    "def remove_nth_character(string, n):\n",
    "    if n < 0 or n >= len(string):\n",
    "        return \"Invalid index\"\n",
    "\n",
    "    new_string = string[:n] + string[n+1:]\n",
    "    return new_string\n",
    "\n",
    "string = input(\"Enter a nonempty string: \")\n",
    "n = int(input(\"Enter the index of the character to remove: \"))\n",
    "print(remove_nth_character(string, n))\n"
   ]
  },
  {
   "cell_type": "code",
   "execution_count": 25,
   "id": "920059ce",
   "metadata": {},
   "outputs": [
    {
     "name": "stdout",
     "output_type": "stream",
     "text": [
      "Enter a nonempty string: example\n",
      "Enter the index of the character to remove: 2\n",
      "example\n"
     ]
    }
   ],
   "source": [
    "def remove_nth_character(string, n):\n",
    "    if n < 0 or n >= len(string):\n",
    "        return \"Invalid index\"\n",
    "\n",
    "    new_string = string[:n] + string[n:]\n",
    "    return new_string\n",
    "\n",
    "string = input(\"Enter a nonempty string: \")\n",
    "n = int(input(\"Enter the index of the character to remove: \"))\n",
    "print(remove_nth_character(string, n))\n"
   ]
  },
  {
   "cell_type": "code",
   "execution_count": 26,
   "id": "420acbe6",
   "metadata": {},
   "outputs": [
    {
     "name": "stdout",
     "output_type": "stream",
     "text": [
      "Enter a nonempty string: example\n",
      "Enter the index of the character to remove: 2\n",
      "Result: exmple\n"
     ]
    }
   ],
   "source": [
    "def remove_nth_character(string, n):\n",
    "    if n < 0 or n >= len(string):\n",
    "        return \"Invalid index\"\n",
    "\n",
    "    new_string = string[:n] + string[n+1:]\n",
    "    return new_string\n",
    "\n",
    "# Example usage\n",
    "string_input = input(\"Enter a nonempty string: \")\n",
    "n_input = int(input(\"Enter the index of the character to remove: \"))\n",
    "\n",
    "result_output = remove_nth_character(string_input, n_input)\n",
    "print(\"Result:\", result_output)\n"
   ]
  },
  {
   "cell_type": "code",
   "execution_count": 27,
   "id": "533ee07d",
   "metadata": {},
   "outputs": [
    {
     "name": "stdout",
     "output_type": "stream",
     "text": [
      "Enter a nonempty string: example\n",
      "Enter the index of the character to remove: 2\n",
      "exmple\n"
     ]
    }
   ],
   "source": [
    "def remove_nth_character(string, n):\n",
    "    if n < 0 or n >= len(string):\n",
    "        return \"Invalid index\"\n",
    "\n",
    "    new_string = string[:n] + string[n+1:]\n",
    "    return new_string\n",
    "\n",
    "string = input(\"Enter a nonempty string: \")\n",
    "n = int(input(\"Enter the index of the character to remove: \"))\n",
    "print(remove_nth_character(string, n))"
   ]
  },
  {
   "cell_type": "code",
   "execution_count": null,
   "id": "6ecc14a9",
   "metadata": {},
   "outputs": [],
   "source": []
  }
 ],
 "metadata": {
  "kernelspec": {
   "display_name": "Python 3 (ipykernel)",
   "language": "python",
   "name": "python3"
  },
  "language_info": {
   "codemirror_mode": {
    "name": "ipython",
    "version": 3
   },
   "file_extension": ".py",
   "mimetype": "text/x-python",
   "name": "python",
   "nbconvert_exporter": "python",
   "pygments_lexer": "ipython3",
   "version": "3.11.5"
  }
 },
 "nbformat": 4,
 "nbformat_minor": 5
}
