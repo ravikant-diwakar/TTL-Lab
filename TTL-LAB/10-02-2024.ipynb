{
 "cells": [
  {
   "cell_type": "markdown",
   "metadata": {},
   "source": [
    "# Lab-4"
   ]
  },
  {
   "cell_type": "markdown",
   "metadata": {},
   "source": [
    "### Anonymous Funtion"
   ]
  },
  {
   "cell_type": "markdown",
   "metadata": {},
   "source": [
    "> Sometime we can declare a function without any name such type of nameless funtion are called anonymous funtions or Lambda function.\n",
    "* > The main purpose of this function is just for instant use i.e. for one time use\n"
   ]
  },
  {
   "cell_type": "markdown",
   "metadata": {},
   "source": [
    "def square(n):\n",
    "    return n*n\n",
    "\n",
    "lambda argument_list: expression\n",
    "Lambda n: n*n"
   ]
  },
  {
   "cell_type": "code",
   "execution_count": 1,
   "metadata": {},
   "outputs": [
    {
     "name": "stdout",
     "output_type": "stream",
     "text": [
      "25\n"
     ]
    }
   ],
   "source": [
    "square = lambda x: x**2\n",
    "\n",
    "x=int(input(\"Enter a number: \"))\n",
    "print(square(x))"
   ]
  },
  {
   "cell_type": "code",
   "execution_count": 4,
   "metadata": {},
   "outputs": [
    {
     "name": "stdout",
     "output_type": "stream",
     "text": [
      "20\n"
     ]
    }
   ],
   "source": [
    "add = lambda x,y: x+y\n",
    "\n",
    "x=int(input(\"Enter 1st number: \"))\n",
    "y=int(input(\"Enter 2nd number: \"))\n",
    "print(add(x,y))"
   ]
  },
  {
   "cell_type": "code",
   "execution_count": null,
   "metadata": {},
   "outputs": [],
   "source": [
    "max = lambda x,y: x if x>y else y\n",
    "\n",
    "n=int(input(\"Enter 1st number: \"))\n",
    "m=int(input(\"Enter 2nd number: \"))\n",
    "print(max(n,m))"
   ]
  },
  {
   "cell_type": "markdown",
   "metadata": {},
   "source": [
    "Why to use Lambda function?\n",
    "* Sometime we can pass function as argument to another function. In such cases Lambda functons are best choice that's why we can use Lambda functions very commonly with filter(), map(), reduce() functions. Because these functions expect function as argument."
   ]
  },
  {
   "cell_type": "markdown",
   "metadata": {},
   "source": [
    "#### Filter Function"
   ]
  },
  {
   "cell_type": "markdown",
   "metadata": {},
   "source": [
    "* We can use filter function to filter values from the given sequence based on some condition.\n",
    "> Syntax:-\n",
    "* filter(function, sequence)"
   ]
  },
  {
   "cell_type": "code",
   "execution_count": null,
   "metadata": {},
   "outputs": [],
   "source": [
    "\"\"\"With Lambda Function \"\"\"\n",
    "numbers = [67,54,11,10, 6, 8, 2, 9, 4, 7, 5, 1, 12]\n",
    "\n",
    "even_numbers = list(filter(lambda x: x % 2 == 0, numbers))\n",
    "\n",
    "print(\"Original list:\", numbers)\n",
    "print(\"Even numbers:\", even_numbers)"
   ]
  },
  {
   "cell_type": "code",
   "execution_count": 8,
   "metadata": {},
   "outputs": [
    {
     "name": "stdout",
     "output_type": "stream",
     "text": [
      "[0, 10, 20, 80, 100]\n"
     ]
    }
   ],
   "source": [
    "\"\"\"Without Lambda Function \"\"\"\n",
    "L = [0, 5, 10, 20, 15, 27, 80, 100]\n",
    "\n",
    "def iseven(x):\n",
    "    if x%2 == 0:\n",
    "        return True\n",
    "    else:\n",
    "        return False\n",
    "\n",
    "L1 = list(filter(iseven,L))\n",
    "print(L1)"
   ]
  },
  {
   "cell_type": "markdown",
   "metadata": {},
   "source": [
    "### Map() Function"
   ]
  },
  {
   "cell_type": "markdown",
   "metadata": {},
   "source": [
    "* For every element present in the given sequence apply, some functionality and generate new element with the required modification for this modification we should go for map() function.\n",
    "* ex:- For every element present in the list perform double and generate new list of doubles."
   ]
  },
  {
   "cell_type": "code",
   "execution_count": 1,
   "metadata": {},
   "outputs": [
    {
     "name": "stdout",
     "output_type": "stream",
     "text": [
      "Doubles: [134, 108, 22, 20, 12, 16, 4, 18, 8, 14, 10, 2, 24]\n"
     ]
    }
   ],
   "source": [
    "L = [67,54,11,10, 6, 8, 2, 9, 4, 7, 5, 1, 12]\n",
    "\n",
    "double = list(map(lambda x: x * 2, L))\n",
    "\n",
    "print(\"Doubles:\", double)"
   ]
  },
  {
   "cell_type": "markdown",
   "metadata": {},
   "source": []
  },
  {
   "cell_type": "code",
   "execution_count": 2,
   "metadata": {},
   "outputs": [
    {
     "ename": "SyntaxError",
     "evalue": "invalid syntax (2089362983.py, line 1)",
     "output_type": "error",
     "traceback": [
      "\u001b[1;36m  Cell \u001b[1;32mIn[2], line 1\u001b[1;36m\u001b[0m\n\u001b[1;33m    L1 = list  ( map (lambda x: ))\u001b[0m\n\u001b[1;37m                                ^\u001b[0m\n\u001b[1;31mSyntaxError\u001b[0m\u001b[1;31m:\u001b[0m invalid syntax\n"
     ]
    }
   ],
   "source": [
    "L1 = list  ( map (lambda x: ))"
   ]
  },
  {
   "cell_type": "code",
   "execution_count": null,
   "metadata": {},
   "outputs": [],
   "source": [
    "describe two methods for trivelling "
   ]
  }
 ],
 "metadata": {
  "kernelspec": {
   "display_name": "Python 3 (ipykernel)",
   "language": "python",
   "name": "python3"
  },
  "language_info": {
   "codemirror_mode": {
    "name": "ipython",
    "version": 3
   },
   "file_extension": ".py",
   "mimetype": "text/x-python",
   "name": "python",
   "nbconvert_exporter": "python",
   "pygments_lexer": "ipython3",
   "version": "3.11.5"
  }
 },
 "nbformat": 4,
 "nbformat_minor": 2
}
