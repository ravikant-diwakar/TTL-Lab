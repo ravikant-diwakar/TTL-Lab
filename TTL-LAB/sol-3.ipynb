{
 "cells": [
  {
   "cell_type": "code",
   "execution_count": 2,
   "metadata": {},
   "outputs": [
    {
     "name": "stdout",
     "output_type": "stream",
     "text": [
      "Enterv the string: ravi\n",
      "ivar\n"
     ]
    }
   ],
   "source": [
    "s=input(\"Enterv the string: \")\n",
    "print(s[::-1])"
   ]
  },
  {
   "cell_type": "markdown",
   "metadata": {},
   "source": [
    "WAP to find reverse of a string"
   ]
  },
  {
   "cell_type": "code",
   "execution_count": 1,
   "metadata": {},
   "outputs": [
    {
     "name": "stdout",
     "output_type": "stream",
     "text": [
      "Enterv the string: ravi\n",
      "ivar\n"
     ]
    }
   ],
   "source": [
    "s=input(\"Enterv the string: \")\n",
    "i=len(s)-1\n",
    "str=\"\"\n",
    "while i>=0:\n",
    "    str=str+s[i]\n",
    "    i=i-1\n",
    "print(str)    "
   ]
  },
  {
   "cell_type": "markdown",
   "metadata": {},
   "source": [
    "Write a program to find which character appears how many time"
   ]
  },
  {
   "cell_type": "code",
   "execution_count": 47,
   "metadata": {},
   "outputs": [
    {
     "name": "stdout",
     "output_type": "stream",
     "text": [
      "character a occurs 1 times\n",
      "character h occurs 1 times\n",
      "character l occurs 1 times\n",
      "character r occurs 1 times\n",
      "character u occurs 1 times\n"
     ]
    }
   ],
   "source": [
    "letters=[0]*26\n",
    "\n",
    "s=input(\"Enter the string: \")\n",
    "for i in range (len(s)):\n",
    "    x=s[i]\n",
    "    letters[ord(x)-97]=letters[ord(x)-97]+1\n",
    "x=0\n",
    "for i in range (26):\n",
    "    if letters[i] > 0 :\n",
    "      print(f\"character {chr(97+i)} occurs {letters[i]} times\" )\n",
    "            "
   ]
  },
  {
   "cell_type": "markdown",
   "metadata": {},
   "source": [
    "Write a program to delete the repeated elements in astring"
   ]
  },
  {
   "cell_type": "code",
   "execution_count": 62,
   "metadata": {},
   "outputs": [
    {
     "name": "stdout",
     "output_type": "stream",
     "text": [
      "hi my nae s rul \n"
     ]
    }
   ],
   "source": [
    "letters=[0]*26\n",
    "\n",
    "s=input(\"Enter the string: \")\n",
    "str1=\"\"\n",
    "for i in range (len(s)):\n",
    "    \n",
    "    if s[i] == \" \":\n",
    "        str1=str1+\" \"\n",
    "    \n",
    "    elif s[i] != \" \":\n",
    "        letters[ord(s[i])-97]=letters[ord(s[i])-97]+1\n",
    "        if letters[ord(s[i])-97]==1 :\n",
    "           str1=str1+s[i]\n",
    "print(str1)        "
   ]
  },
  {
   "cell_type": "markdown",
   "metadata": {},
   "source": [
    "Write a function to find the factorial of number in given range:"
   ]
  },
  {
   "cell_type": "code",
   "execution_count": 82,
   "metadata": {},
   "outputs": [
    {
     "name": "stdout",
     "output_type": "stream",
     "text": [
      "1\n",
      "2\n",
      "6\n",
      "24\n",
      "120\n"
     ]
    }
   ],
   "source": [
    "def fact(x):\n",
    "    f=1 \n",
    "    for i in range(1,x+1):\n",
    "     f=f*i\n",
    "    \n",
    "    return f\n",
    "\n",
    "n=int(input(\"Enter the number: \"))\n",
    "for i in range(1,n+1):\n",
    "    print(fact(i))"
   ]
  },
  {
   "cell_type": "markdown",
   "metadata": {},
   "source": [
    "Wap to find factorial using recursion"
   ]
  },
  {
   "cell_type": "code",
   "execution_count": 83,
   "metadata": {},
   "outputs": [
    {
     "name": "stdout",
     "output_type": "stream",
     "text": [
      "1\n",
      "2\n",
      "6\n",
      "24\n",
      "120\n"
     ]
    }
   ],
   "source": [
    "def fact(x): \n",
    "    if(x==0):\n",
    "     return 1\n",
    "    else:\n",
    "        \n",
    "        return x*fact(x-1) \n",
    "    \n",
    "\n",
    "n=int(input(\"Enter the number: \"))\n",
    "for i in range(1,n+1):\n",
    "    print(fact(i))"
   ]
  },
  {
   "cell_type": "markdown",
   "metadata": {},
   "source": [
    "wap to solve fibonacci sequence using recursion"
   ]
  },
  {
   "cell_type": "code",
   "execution_count": 86,
   "metadata": {},
   "outputs": [
    {
     "name": "stdout",
     "output_type": "stream",
     "text": [
      "5\n"
     ]
    }
   ],
   "source": [
    "def fib(n):\n",
    "    if(n<=1):\n",
    "     return n\n",
    "    else:\n",
    "        return(fib(n-2)+fib(n-1))\n",
    "    \n",
    "\n",
    "x=int(input(\"Enter a number: \"))\n",
    "print(fib(x))      "
   ]
  },
  {
   "cell_type": "markdown",
   "metadata": {},
   "source": [
    "Write a program to find the number of occurence of each vowel present in the given string."
   ]
  },
  {
   "cell_type": "code",
   "execution_count": 3,
   "metadata": {},
   "outputs": [
    {
     "name": "stdout",
     "output_type": "stream",
     "text": [
      "character a occurs 1 times\n",
      "character u occurs 1 times\n"
     ]
    }
   ],
   "source": [
    "letters=[0]*26\n",
    "\n",
    "s=input(\"Enter the string: \")\n",
    "\n",
    "for i in range (len(s)):\n",
    "    x=s[i].lower()\n",
    "    if x=='a' or x=='e' or x=='i' or x=='o' or x=='u':\n",
    "      letters[ord(x)-97]=letters[ord(x)-97]+1\n",
    "x=0\n",
    "for i in range (26):\n",
    "    if letters[i] > 0 :\n",
    "      print(f\"character {chr(97+i)} occurs {letters[i]} times\" )"
   ]
  },
  {
   "cell_type": "markdown",
   "metadata": {},
   "source": [
    " WAP to create a lambda function to find the square of a given function."
   ]
  },
  {
   "cell_type": "code",
   "execution_count": 4,
   "metadata": {},
   "outputs": [
    {
     "name": "stdout",
     "output_type": "stream",
     "text": [
      "25\n"
     ]
    }
   ],
   "source": [
    "square = lambda x: x**2\n",
    "\n",
    "x=int(input(\"Enter a number: \"))\n",
    "print(square(x))"
   ]
  },
  {
   "cell_type": "code",
   "execution_count": 7,
   "metadata": {},
   "outputs": [
    {
     "name": "stdout",
     "output_type": "stream",
     "text": [
      "5\n"
     ]
    }
   ],
   "source": [
    "maximum = lambda x,y: x if x>y else y\n",
    "\n",
    "n=int(input(\"Enter 1st number: \"))\n",
    "m=int(input(\"Enter 1st number: \"))\n",
    "print(maximum(n,m))\n"
   ]
  },
  {
   "cell_type": "markdown",
   "metadata": {},
   "source": [
    "Write a program to filter only even number from the list using filter function."
   ]
  },
  {
   "cell_type": "code",
   "execution_count": 8,
   "metadata": {},
   "outputs": [
    {
     "name": "stdout",
     "output_type": "stream",
     "text": [
      "Original list: [10, 6, 8, 2, 9, 4, 7, 5, 1, 12]\n",
      "Even numbers: [10, 6, 8, 2, 4, 12]\n"
     ]
    }
   ],
   "source": [
    "numbers = [10, 6, 8, 2, 9, 4, 7, 5, 1, 12]\n",
    "\n",
    "even_numbers = list(filter(lambda x: x % 2 == 0, numbers))\n",
    "\n",
    "print(\"Original list:\", numbers)\n",
    "print(\"Even numbers:\", even_numbers)"
   ]
  },
  {
   "cell_type": "code",
   "execution_count": null,
   "metadata": {},
   "outputs": [],
   "source": []
  }
 ],
 "metadata": {
  "kernelspec": {
   "display_name": "Python 3 (ipykernel)",
   "language": "python",
   "name": "python3"
  },
  "language_info": {
   "codemirror_mode": {
    "name": "ipython",
    "version": 3
   },
   "file_extension": ".py",
   "mimetype": "text/x-python",
   "name": "python",
   "nbconvert_exporter": "python",
   "pygments_lexer": "ipython3",
   "version": "3.11.5"
  }
 },
 "nbformat": 4,
 "nbformat_minor": 2
}
