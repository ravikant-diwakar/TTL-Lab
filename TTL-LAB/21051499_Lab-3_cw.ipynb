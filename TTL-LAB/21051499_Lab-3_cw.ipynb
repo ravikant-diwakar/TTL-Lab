{
 "cells": [
  {
   "cell_type": "markdown",
   "id": "695145d8",
   "metadata": {},
   "source": [
    "1.write a program to find no. of occurence of each letter present int the given string input: mississippi\n",
    "\n",
    "2.wap to find no. of occurence of each vowel present in the given string.\n",
    "\n",
    "3.write a function to find factorial of a given number should be in range like 1 to n;\n",
    "\n",
    "4.write a function to find factorial of a given number with recursion.\n",
    "\n",
    "5.write a program to create a lambda function to find the square of a given number\n",
    "\n",
    "6.write a lambda function to find biggest of the given values.\n",
    "\n",
    "7.write a program to filter only even no. from the list using filter();"
   ]
  },
  {
   "cell_type": "code",
   "execution_count": null,
   "id": "57a0db09",
   "metadata": {},
   "outputs": [],
   "source": [
    "#1. \n",
    "def count_occurrences(string):\n",
    "    occurrences = {}\n",
    "    for char in string:\n",
    "        if char in occurrences:\n",
    "            occurrences[char] += 1\n",
    "        else:\n",
    "            occurrences[char] = 1\n",
    "    return occurrences\n",
    "\n",
    "input_string = input(\"Enter a string: \")\n",
    "\n",
    "occurrences = count_occurrences(input_string)\n",
    "print(occurrences)"
   ]
  },
  {
   "cell_type": "code",
   "execution_count": null,
   "id": "58849ba6",
   "metadata": {},
   "outputs": [],
   "source": [
    "# String"
   ]
  },
  {
   "cell_type": "code",
   "execution_count": 2,
   "id": "77f8349a",
   "metadata": {},
   "outputs": [
    {
     "name": "stdout",
     "output_type": "stream",
     "text": [
      "9\n",
      "-1\n",
      "3\n",
      "2\n",
      "Learning Python is very difficult.\n",
      "2979055344000\n",
      "2979054971248\n"
     ]
    },
    {
     "ename": "AttributeError",
     "evalue": "'str' object has no attribute 'spit'",
     "output_type": "error",
     "traceback": [
      "\u001b[1;31m---------------------------------------------------------------------------\u001b[0m",
      "\u001b[1;31mAttributeError\u001b[0m                            Traceback (most recent call last)",
      "Cell \u001b[1;32mIn[2], line 11\u001b[0m\n\u001b[0;32m      8\u001b[0m \u001b[38;5;28mprint\u001b[39m(\u001b[38;5;28mid\u001b[39m(s))\n\u001b[0;32m      9\u001b[0m \u001b[38;5;28mprint\u001b[39m(\u001b[38;5;28mid\u001b[39m(s1))\n\u001b[1;32m---> 11\u001b[0m s1 \u001b[38;5;241m=\u001b[39m s\u001b[38;5;241m.\u001b[39mspit(\u001b[38;5;124m\"\u001b[39m\u001b[38;5;124m \u001b[39m\u001b[38;5;124m\"\u001b[39m)\n\u001b[0;32m     12\u001b[0m \u001b[38;5;28;01mfor\u001b[39;00m x \u001b[38;5;129;01min\u001b[39;00m s1:\n\u001b[0;32m     13\u001b[0m     \u001b[38;5;28mprint\u001b[39m(x)\n",
      "\u001b[1;31mAttributeError\u001b[0m: 'str' object has no attribute 'spit'"
     ]
    }
   ],
   "source": [
    "s = \"Learning Python is very easy.\"\n",
    "print(s.find(\"Python\"))\n",
    "print(s.find(\"are\"))\n",
    "print(s.find(\"r\"))\n",
    "print(s.count(\"r\"))\n",
    "s1 = s.replace(\"easy\",\"difficult\")\n",
    "print(s1)\n",
    "print(id(s))\n",
    "print(id(s1))\n",
    "\n",
    "s1 = s.spit(\" \")\n",
    "for x in s1:\n",
    "    print(x)"
   ]
  },
  {
   "cell_type": "code",
   "execution_count": null,
   "id": "d9496c8d",
   "metadata": {},
   "outputs": [],
   "source": [
    "n = input(\"Enter a date with hyphen:- \")\n",
    "s1 = n.split(\"-\")\n",
    "for x in s1:\n",
    "    print(x)"
   ]
  },
  {
   "cell_type": "code",
   "execution_count": null,
   "id": "2794f14f",
   "metadata": {},
   "outputs": [],
   "source": [
    "t = ('Sunny','Priyanka','Ritwik')\n",
    "s = '-'.join(t)\n",
    "print(s)"
   ]
  },
  {
   "cell_type": "code",
   "execution_count": null,
   "id": "15ab804a",
   "metadata": {},
   "outputs": [],
   "source": [
    "def reverse(str):\n",
    "\n",
    "    words = str.split(' ')\n",
    "    rev_str = []\n",
    "    for word in words_4:\n",
    "        rev_str.insert(0, word)\n",
    "\n",
    "    return rev_str\n",
    "\n",
    "str = input(\"Enter a string want to reversed:- \")\n",
    "result = reverse(str);\n",
    "print(\" \".join(result))"
   ]
  },
  {
   "cell_type": "code",
   "execution_count": null,
   "id": "d7885cc9",
   "metadata": {},
   "outputs": [],
   "source": [
    "s = input(\"Enter a string: \")\n",
    "print(s[: : -1])"
   ]
  },
  {
   "cell_type": "code",
   "execution_count": null,
   "id": "128d7d96",
   "metadata": {},
   "outputs": [],
   "source": [
    "t = ('A' 'b' 'h' 'i')\n",
    "s1 = \"\".join(t)\n",
    "s2 = reversed(t)\n",
    "print(s1)\n",
    "print(s2)"
   ]
  },
  {
   "cell_type": "code",
   "execution_count": null,
   "id": "992e16d9",
   "metadata": {},
   "outputs": [],
   "source": [
    "s = input(\"Enter a string:- \")\n",
    "i = len(s) - 1\n",
    "str = \"\"\n",
    "\n",
    "while i > 0:\n",
    "    str = str + s[i]\n",
    "    i = i - 1\n",
    "print(str)"
   ]
  },
  {
   "cell_type": "code",
   "execution_count": null,
   "id": "b1bb4e27",
   "metadata": {},
   "outputs": [],
   "source": [
    "s = input(\"Enter a string:- \")\n",
    "i = s.split(\" \")\n",
    "j = \" \".join(i)\n",
    "print(j[: : -1])"
   ]
  },
  {
   "cell_type": "code",
   "execution_count": null,
   "id": "061e8819",
   "metadata": {},
   "outputs": [],
   "source": [
    "\n",
    "WAP to reverse the content of each word\n",
    "s = input(\"Enter a string:- \")\n",
    "l = s.split(\" \")\n",
    "str1=\"\"\n",
    "\n",
    "i=len(l)-1\n",
    "while i>=0:\n",
    "    str1=str1+l[i]+\" \"\n",
    "    i=i-1\n",
    "print(str1[::-1])"
   ]
  },
  {
   "cell_type": "code",
   "execution_count": null,
   "id": "3d457b78",
   "metadata": {},
   "outputs": [],
   "source": [
    "#WAP in to remove duplicates characters from a given input string.\n",
    "def duplicates(str):\n",
    "    b = set()\n",
    "    a = \"\"\n",
    "    for char in str:\n",
    "        if char not in b:\n",
    "            a += char\n",
    "            b.add(char)\n",
    "    return a\n",
    "\n",
    "str = input(\"Enter a string: \")\n",
    "x = duplicates(str)\n",
    "print(\"String without duplicates:\", x)"
   ]
  },
  {
   "cell_type": "code",
   "execution_count": null,
   "id": "609c3e7d",
   "metadata": {},
   "outputs": [],
   "source": [
    "def Hello():\n",
    "    print(\"Hello Python\")\n",
    "Hello()\n",
    "Hello()\n",
    "Hello()"
   ]
  },
  {
   "cell_type": "code",
   "execution_count": null,
   "id": "bac7c879",
   "metadata": {},
   "outputs": [],
   "source": [
    "def fact(x):\n",
    "    result = 1\n",
    "    for i in range(1,x+1):\n",
    "        result=result*i\n",
    "\n",
    "    return result\n",
    "    \n",
    "n=int(input(\"Enter the number:-\"))\n",
    "for i in range(1,n+1):\n",
    "    print(fact(i))"
   ]
  },
  {
   "cell_type": "code",
   "execution_count": null,
   "id": "1e6d9ac1",
   "metadata": {},
   "outputs": [],
   "source": [
    "#With recursion\n",
    "def fact(x):\n",
    "    if(x==0):\n",
    "        return 1\n",
    "    else:\n",
    "        return x*fact(x-1)\n",
    "    \n",
    "n=int(input(\"Enter the number:-\"))\n",
    "for i in range(1,n+1):\n",
    "    print(fact(i))"
   ]
  },
  {
   "cell_type": "code",
   "execution_count": null,
   "id": "721c0343",
   "metadata": {},
   "outputs": [],
   "source": []
  }
 ],
 "metadata": {
  "kernelspec": {
   "display_name": "Python 3 (ipykernel)",
   "language": "python",
   "name": "python3"
  },
  "language_info": {
   "codemirror_mode": {
    "name": "ipython",
    "version": 3
   },
   "file_extension": ".py",
   "mimetype": "text/x-python",
   "name": "python",
   "nbconvert_exporter": "python",
   "pygments_lexer": "ipython3",
   "version": "3.11.5"
  }
 },
 "nbformat": 4,
 "nbformat_minor": 5
}
